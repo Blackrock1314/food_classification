{
 "cells": [
  {
   "cell_type": "markdown",
   "id": "88d5d1dc-bc5e-445a-91a3-8e579c52f084",
   "metadata": {},
   "source": [
    "先安装mindvision"
   ]
  },
  {
   "cell_type": "code",
   "execution_count": 1,
   "id": "317a6d49-5b23-4778-91e6-8ac97f9bb8ad",
   "metadata": {},
   "outputs": [
    {
     "name": "stdout",
     "output_type": "stream",
     "text": [
      "Looking in indexes: http://repo.myhuaweicloud.com/repository/pypi/simple\n",
      "Collecting opencv-python==4.5.5.64\n",
      "  Downloading http://repo.myhuaweicloud.com/repository/pypi/packages/e0/a3/f1df79206764a122f7fe05084909cf20581cfb66a78677636382ec1b2231/opencv_python-4.5.5.64-cp36-abi3-manylinux_2_17_aarch64.manylinux2014_aarch64.whl (39.2 MB)\n",
      "\u001b[K     |████████████████████████████████| 39.2 MB 16.8 MB/s eta 0:00:01\n",
      "\u001b[?25hCollecting numpy>=1.19.3\n",
      "  Downloading http://repo.myhuaweicloud.com/repository/pypi/packages/b7/0d/86662f93102e42545cdf031da4fddf0ace9030ec67478932a628afc5973b/numpy-1.21.6-cp37-cp37m-manylinux_2_17_aarch64.manylinux2014_aarch64.whl (13.0 MB)\n",
      "\u001b[K     |████████████████████████████████| 13.0 MB 23.9 MB/s eta 0:00:01\n",
      "\u001b[?25hInstalling collected packages: numpy, opencv-python\n",
      "  Attempting uninstall: numpy\n",
      "    Found existing installation: numpy 1.17.5\n",
      "    Uninstalling numpy-1.17.5:\n",
      "      Successfully uninstalled numpy-1.17.5\n",
      "  Attempting uninstall: opencv-python\n",
      "    Found existing installation: opencv-python 4.2.0.34\n",
      "    Uninstalling opencv-python-4.2.0.34:\n",
      "      Successfully uninstalled opencv-python-4.2.0.34\n",
      "\u001b[31mERROR: pip's dependency resolver does not currently take into account all the packages that are installed. This behaviour is the source of the following dependency conflicts.\n",
      "schedule-search 0.0.1 requires absl-py, which is not installed.\n",
      "schedule-search 0.0.1 requires tensorflow>=1.10.0, which is not installed.\n",
      "modelarts 1.4.11 requires requests~=2.27.1, but you have requests 2.23.0 which is incompatible.\n",
      "ma-cau 1.1.5 requires click==8.0.3, but you have click 8.1.3 which is incompatible.\n",
      "ma-cau 1.1.5 requires matplotlib==3.5.1, but you have matplotlib 3.1.2 which is incompatible.\n",
      "ma-cau 1.1.5 requires Pillow==9.1.1, but you have pillow 7.0.0 which is incompatible.\n",
      "ma-cau 1.1.5 requires pycocotools==2.0.3, but you have pycocotools 2.0.0 which is incompatible.\n",
      "ma-cau 1.1.5 requires terminaltables~=3.1.10, but you have terminaltables 3.1.0 which is incompatible.\u001b[0m\n",
      "Successfully installed numpy-1.21.6 opencv-python-4.5.5.64\n",
      "Note: you may need to restart the kernel to use updated packages.\n"
     ]
    }
   ],
   "source": [
    "pip install opencv-python==4.5.5.64"
   ]
  },
  {
   "cell_type": "code",
   "execution_count": 2,
   "id": "64e7e51a-cdd2-48f2-9c01-e287c3afbfe8",
   "metadata": {},
   "outputs": [
    {
     "name": "stdout",
     "output_type": "stream",
     "text": [
      "Looking in indexes: http://repo.myhuaweicloud.com/repository/pypi/simple\n",
      "Collecting mindvision\n",
      "  Downloading http://repo.myhuaweicloud.com/repository/pypi/packages/da/35/8e45c5b695706e3f3328014ab4ec8baa4290b8339390570284127069ef9a/mindvision-0.1.0-py3-none-any.whl (194 kB)\n",
      "\u001b[K     |████████████████████████████████| 194 kB 45.2 MB/s eta 0:00:01\n",
      "\u001b[?25hRequirement already satisfied: wheel>=0.32.0 in /home/ma-user/anaconda3/envs/MindSpore/lib/python3.7/site-packages (from mindvision) (0.37.0)\n",
      "Collecting opencv-contrib-python-headless\n",
      "  Downloading http://repo.myhuaweicloud.com/repository/pypi/packages/c9/14/8246c7a25f18e1de13a10d28f90cc63bc6fb8d66cb95b7729bd9f7a4cf31/opencv_contrib_python_headless-4.6.0.66-cp36-abi3-manylinux_2_17_aarch64.manylinux2014_aarch64.whl (33.0 MB)\n",
      "\u001b[K     |████████████████████████████████| 33.0 MB 3.4 MB/s eta 0:00:01     |███████████████████             | 19.7 MB 3.4 MB/s eta 0:00:04\n",
      "\u001b[?25hCollecting pytest>=4.3.1\n",
      "  Downloading http://repo.myhuaweicloud.com/repository/pypi/packages/fb/d0/bae533985f2338c5d02184b4a7083b819f6b3fc101da792e0d96e6e5299d/pytest-7.1.2-py3-none-any.whl (297 kB)\n",
      "\u001b[K     |████████████████████████████████| 297 kB 55.1 MB/s eta 0:00:01\n",
      "\u001b[?25hCollecting ml-collections\n",
      "  Downloading http://repo.myhuaweicloud.com/repository/pypi/packages/aa/ea/853aa32dfa1006d3eb43384712f35b8f2d6f0a757b8c779d40c29e3e8515/ml_collections-0.1.1.tar.gz (77 kB)\n",
      "\u001b[K     |████████████████████████████████| 77 kB 53.1 MB/s eta 0:00:01\n",
      "\u001b[?25hCollecting matplotlib>=3.2.1\n",
      "  Downloading http://repo.myhuaweicloud.com/repository/pypi/packages/b4/d1/398124bc31d31b57a8a660be90bf5498b703f636c4a33a7180e7e59c3deb/matplotlib-3.5.3-cp37-cp37m-manylinux_2_17_aarch64.manylinux2014_aarch64.whl (11.6 MB)\n",
      "\u001b[K     |████████████████████████████████| 11.6 MB 17.1 MB/s eta 0:00:01\n",
      "\u001b[?25hRequirement already satisfied: scipy>=1.5.2 in /home/ma-user/anaconda3/envs/MindSpore/lib/python3.7/site-packages (from mindvision) (1.5.4)\n",
      "Requirement already satisfied: numpy>=1.17.0 in /home/ma-user/anaconda3/envs/MindSpore/lib/python3.7/site-packages (from mindvision) (1.21.6)\n",
      "Requirement already satisfied: easydict>=1.9 in /home/ma-user/anaconda3/envs/MindSpore/lib/python3.7/site-packages (from mindvision) (1.9)\n",
      "Requirement already satisfied: opencv-python-headless in /home/ma-user/modelarts-dev/common-algo-toolkit (from mindvision) (4.5.4.60)\n",
      "Requirement already satisfied: setuptools>=40.8.0 in /home/ma-user/anaconda3/envs/MindSpore/lib/python3.7/site-packages (from mindvision) (58.0.4)\n",
      "Requirement already satisfied: pillow>=6.2.0 in /home/ma-user/anaconda3/envs/MindSpore/lib/python3.7/site-packages (from mindvision) (7.0.0)\n",
      "Requirement already satisfied: tqdm in /home/ma-user/modelarts-dev/modelarts-sdk (from mindvision) (4.63.1)\n",
      "Requirement already satisfied: scikit-learn>=0.23.1 in /home/ma-user/anaconda3/envs/MindSpore/lib/python3.7/site-packages (from mindvision) (0.24.0)\n",
      "Requirement already satisfied: packaging>=20.0 in /home/ma-user/anaconda3/envs/MindSpore/lib/python3.7/site-packages (from matplotlib>=3.2.1->mindvision) (21.3)\n",
      "Requirement already satisfied: fonttools>=4.22.0 in /home/ma-user/modelarts-dev/common-algo-toolkit (from matplotlib>=3.2.1->mindvision) (4.38.0)\n",
      "Requirement already satisfied: pyparsing>=2.2.1 in /home/ma-user/anaconda3/envs/MindSpore/lib/python3.7/site-packages (from matplotlib>=3.2.1->mindvision) (3.0.6)\n",
      "Requirement already satisfied: cycler>=0.10 in /home/ma-user/anaconda3/envs/MindSpore/lib/python3.7/site-packages (from matplotlib>=3.2.1->mindvision) (0.11.0)\n",
      "Requirement already satisfied: kiwisolver>=1.0.1 in /home/ma-user/anaconda3/envs/MindSpore/lib/python3.7/site-packages (from matplotlib>=3.2.1->mindvision) (1.1.0)\n",
      "Requirement already satisfied: python-dateutil>=2.7 in /home/ma-user/anaconda3/envs/MindSpore/lib/python3.7/site-packages (from matplotlib>=3.2.1->mindvision) (2.8.2)\n",
      "Collecting pluggy<2.0,>=0.12\n",
      "  Downloading http://repo.myhuaweicloud.com/repository/pypi/packages/9e/01/f38e2ff29715251cf25532b9082a1589ab7e4f571ced434f98d0139336dc/pluggy-1.0.0-py2.py3-none-any.whl (13 kB)\n",
      "Requirement already satisfied: attrs>=19.2.0 in /home/ma-user/anaconda3/envs/MindSpore/lib/python3.7/site-packages (from pytest>=4.3.1->mindvision) (19.3.0)\n",
      "Requirement already satisfied: importlib-metadata>=0.12 in /home/ma-user/anaconda3/envs/MindSpore/lib/python3.7/site-packages (from pytest>=4.3.1->mindvision) (4.12.0)\n",
      "Collecting iniconfig\n",
      "  Downloading http://repo.myhuaweicloud.com/repository/pypi/packages/9b/dd/b3c12c6d707058fa947864b67f0c4e0c39ef8610988d7baea9578f3c48f3/iniconfig-1.1.1-py2.py3-none-any.whl (5.0 kB)\n",
      "Collecting py>=1.8.2\n",
      "  Downloading http://repo.myhuaweicloud.com/repository/pypi/packages/67/32/6fe01cfc3d1a27c92fdbcdfc3f67856da8cbadf0dd9f2e18055202b2dc62/py-1.10.0-py2.py3-none-any.whl (97 kB)\n",
      "\u001b[K     |████████████████████████████████| 97 kB 25.7 MB/s eta 0:00:01\n",
      "\u001b[?25hCollecting tomli>=1.0.0\n",
      "  Downloading http://repo.myhuaweicloud.com/repository/pypi/packages/97/75/10a9ebee3fd790d20926a90a2547f0bf78f371b2f13aa822c759680ca7b9/tomli-2.0.1-py3-none-any.whl (12 kB)\n",
      "Requirement already satisfied: typing-extensions>=3.6.4 in /home/ma-user/anaconda3/envs/MindSpore/lib/python3.7/site-packages (from importlib-metadata>=0.12->pytest>=4.3.1->mindvision) (3.10.0.2)\n",
      "Requirement already satisfied: zipp>=0.5 in /home/ma-user/anaconda3/envs/MindSpore/lib/python3.7/site-packages (from importlib-metadata>=0.12->pytest>=4.3.1->mindvision) (3.8.1)\n",
      "Requirement already satisfied: six>=1.5 in /home/ma-user/anaconda3/envs/MindSpore/lib/python3.7/site-packages (from python-dateutil>=2.7->matplotlib>=3.2.1->mindvision) (1.16.0)\n",
      "Requirement already satisfied: threadpoolctl>=2.0.0 in /home/ma-user/anaconda3/envs/MindSpore/lib/python3.7/site-packages (from scikit-learn>=0.23.1->mindvision) (3.0.0)\n",
      "Requirement already satisfied: joblib>=0.11 in /home/ma-user/anaconda3/envs/MindSpore/lib/python3.7/site-packages (from scikit-learn>=0.23.1->mindvision) (1.1.0)\n",
      "Collecting absl-py\n",
      "  Downloading http://repo.myhuaweicloud.com/repository/pypi/packages/a5/b8/fc74a554a6fc7f26744c883ebfe405cf49c1f1320f13ee874aee47c70e1d/absl_py-1.2.0-py3-none-any.whl (123 kB)\n",
      "\u001b[K     |████████████████████████████████| 123 kB 19.8 MB/s eta 0:00:01\n",
      "\u001b[?25hRequirement already satisfied: PyYAML in /home/ma-user/anaconda3/envs/MindSpore/lib/python3.7/site-packages (from ml-collections->mindvision) (5.3.1)\n",
      "Collecting contextlib2\n",
      "  Downloading http://repo.myhuaweicloud.com/repository/pypi/packages/76/56/6d6872f79d14c0cb02f1646cbb4592eef935857c0951a105874b7b62a0c3/contextlib2-21.6.0-py2.py3-none-any.whl (13 kB)\n",
      "Building wheels for collected packages: ml-collections\n",
      "  Building wheel for ml-collections (setup.py) ... \u001b[?25ldone\n",
      "\u001b[?25h  Created wheel for ml-collections: filename=ml_collections-0.1.1-py3-none-any.whl size=94524 sha256=731cd301de50f4b0cc61f0c562b219ed6f681017d38f533c981b89494921d364\n",
      "  Stored in directory: /home/ma-user/.cache/pip/wheels/99/c3/28/3b58c360d4ed678c4f045bc99e3ac99b1e0f7ca45f1da41437\n",
      "Successfully built ml-collections\n",
      "Installing collected packages: tomli, py, pluggy, iniconfig, contextlib2, absl-py, pytest, opencv-contrib-python-headless, ml-collections, matplotlib, mindvision\n",
      "  Attempting uninstall: matplotlib\n",
      "    Found existing installation: matplotlib 3.1.2\n",
      "    Uninstalling matplotlib-3.1.2:\n",
      "      Successfully uninstalled matplotlib-3.1.2\n",
      "\u001b[31mERROR: pip's dependency resolver does not currently take into account all the packages that are installed. This behaviour is the source of the following dependency conflicts.\n",
      "schedule-search 0.0.1 requires tensorflow>=1.10.0, which is not installed.\n",
      "ma-cau 1.1.5 requires click==8.0.3, but you have click 8.1.3 which is incompatible.\n",
      "ma-cau 1.1.5 requires matplotlib==3.5.1, but you have matplotlib 3.5.3 which is incompatible.\n",
      "ma-cau 1.1.5 requires Pillow==9.1.1, but you have pillow 7.0.0 which is incompatible.\n",
      "ma-cau 1.1.5 requires pycocotools==2.0.3, but you have pycocotools 2.0.0 which is incompatible.\n",
      "ma-cau 1.1.5 requires terminaltables~=3.1.10, but you have terminaltables 3.1.0 which is incompatible.\u001b[0m\n",
      "Successfully installed absl-py-1.2.0 contextlib2-21.6.0 iniconfig-1.1.1 matplotlib-3.5.3 mindvision-0.1.0 ml-collections-0.1.1 opencv-contrib-python-headless-4.6.0.66 pluggy-1.0.0 py-1.10.0 pytest-7.1.2 tomli-2.0.1\n"
     ]
    }
   ],
   "source": [
    "!pip install mindvision"
   ]
  },
  {
   "cell_type": "markdown",
   "id": "8102921c-fc5b-4013-8d36-26828cdfb1d4",
   "metadata": {},
   "source": [
    "解压缩"
   ]
  },
  {
   "cell_type": "code",
   "execution_count": 3,
   "id": "8b3874dd-c62b-430f-af47-82fb2a5b044f",
   "metadata": {},
   "outputs": [],
   "source": [
    "import zipfile\n",
    "zip = zipfile.ZipFile(\"dataset.zip\", 'r')\n",
    "zip.extractall(\"./\")\n",
    "zip.close()"
   ]
  }
 ],
 "metadata": {
  "kernelspec": {
   "display_name": "MindSpore",
   "language": "python",
   "name": "mindspore"
  },
  "language_info": {
   "codemirror_mode": {
    "name": "ipython",
    "version": 3
   },
   "file_extension": ".py",
   "mimetype": "text/x-python",
   "name": "python",
   "nbconvert_exporter": "python",
   "pygments_lexer": "ipython3",
   "version": "3.7.6"
  }
 },
 "nbformat": 4,
 "nbformat_minor": 5
}
